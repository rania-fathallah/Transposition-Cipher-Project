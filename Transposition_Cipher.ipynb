{
  "cells": [
    {
      "cell_type": "markdown",
      "id": "fc1b63ae",
      "metadata": {
        "id": "fc1b63ae"
      },
      "source": [
        "# Create the TranspositionCipher class"
      ]
    },
    {
      "cell_type": "code",
      "source": [
        "import math"
      ],
      "metadata": {
        "id": "2bXb5kUHbUMl"
      },
      "id": "2bXb5kUHbUMl",
      "execution_count": 4,
      "outputs": []
    },
    {
      "cell_type": "code",
      "execution_count": 74,
      "id": "24484932",
      "metadata": {
        "id": "24484932"
      },
      "outputs": [],
      "source": [
        "class TranspositionCipher(object):\n",
        "\n",
        "    def __init__(self, key):\n",
        "        self.key = key\n",
        "\n",
        "    def encrypt_message(self, message):\n",
        "        \"\"\"\n",
        "        Encrypts the message using a columnar transposition cipher.\n",
        "        \"\"\"\n",
        "        #message = message.upper()\n",
        "        message_length = len(message)\n",
        "        message_ceil = math.ceil(message_length/self.key)\n",
        "        ciphertext_m = []\n",
        "\n",
        "        for j in range(message_ceil):\n",
        "          ciphertext_p = [\"\"] * self.key\n",
        "          for i in range(self.key):\n",
        "            index = i + j * self.key\n",
        "            if index < message_length:\n",
        "              ciphertext_p[i] = message[index]\n",
        "          ciphertext_m.append(ciphertext_p)\n",
        "        cyphertext = ''\n",
        "        for i in range(self.key):\n",
        "          cyphertext += ''.join(ciphertext_m[j][i] for j in range(message_ceil))\n",
        "        return cyphertext\n",
        "\n",
        "\n",
        "\n",
        "    def decrypt_message(self, message):\n",
        "        \"\"\"\n",
        "        Decrypts the message using a columnar transposition cipher.\n",
        "        \"\"\"\n",
        "        message_length = len(message)\n",
        "        message_ceil = math.ceil(message_length/self.key)\n",
        "        num_empty_cells = (self.key * message_ceil) - message_length\n",
        "        message_decrypted_m = []\n",
        "        start = 0\n",
        "        for col in range(self.key):\n",
        "          end = start + message_ceil - (1 if col >= self.key - num_empty_cells else 0)\n",
        "          message_decrypted_m.append(message[start:end])\n",
        "          start = end\n",
        "\n",
        "        message_decrypted = ''\n",
        "        for i in range(message_ceil):\n",
        "          for col in range(self.key):\n",
        "            if i < len(message_decrypted_m[col]):  # Skip empty cells\n",
        "                message_decrypted += message_decrypted_m[col][i]\n",
        "\n",
        "        return message_decrypted\n"
      ]
    },
    {
      "cell_type": "markdown",
      "id": "addc9042",
      "metadata": {
        "id": "addc9042"
      },
      "source": [
        "# Test the code by encrypting and decrypting a message"
      ]
    },
    {
      "cell_type": "code",
      "execution_count": 75,
      "id": "8c8f8aa3",
      "metadata": {
        "colab": {
          "base_uri": "https://localhost:8080/"
        },
        "id": "8c8f8aa3",
        "outputId": "eb46496c-d2c1-41ce-c30f-162ceef138d1"
      },
      "outputs": [
        {
          "output_type": "stream",
          "name": "stdout",
          "text": [
            "Ishrhpt e lhoice  fy\n",
            "t doeoiee etdg so eene seduahmralerchdhh  b h larnxnhsh,lwhmw etdc ssdsree   ’e  eidmyweumnw cti e iho hwne.oae dso. tids\n",
            "st meo h seeahi sh dtittealrnt aeeu whno whhwsevtit.sdrita ahrtc hnsyef w rdgTar cvhoaaepehco   dsenedayehfe  \n",
            "setos \n",
            "hhsittoiwtslldahlHlf\n",
            " mdy r\n",
            "r rmhkit\n"
          ]
        }
      ],
      "source": [
        "text = '''I confess at these words a shudder passed\n",
        "through me. There was a thrill in the doctor’s voice\n",
        "which showed that he was himself deeply moved\n",
        "by that which he told us. Holmes leaned forward\n",
        "in his excitement and his eyes had the hard, dry\n",
        "glitter which shot from them when he was keenly\n",
        "interested.'''\n",
        "\n",
        "enc = TranspositionCipher(7)\n",
        "print(enc.encrypt_message(text))"
      ]
    },
    {
      "cell_type": "code",
      "source": [
        "msg = 'asnem trhivt  taotosatihftorru .v naeu sera eogtwrm, nly f . no yelea lyeraed a biedena yrheka  driesaheriy sna ba '\n",
        "dec = TranspositionCipher(12)\n",
        "print(dec.decrypt_message(msg))"
      ],
      "metadata": {
        "colab": {
          "base_uri": "https://localhost:8080/"
        },
        "id": "qN4aWhZJoW7y",
        "outputId": "4e09c36b-bd40-41bf-bb9d-ef4d4d1a7dca"
      },
      "id": "qN4aWhZJoW7y",
      "execution_count": 73,
      "outputs": [
        {
          "output_type": "stream",
          "name": "stdout",
          "text": [
            "ava em l yrystt.r,nybri n iva oeihese h  n reesnmtfnelyadkaa ataoyeeeah tooeg ldn ebrtrutfe a rahor w aa di isusr. \n"
          ]
        }
      ]
    },
    {
      "cell_type": "markdown",
      "id": "2c4e8503",
      "metadata": {
        "id": "2c4e8503"
      },
      "source": [
        "# Hack the transposition cipher (optional)"
      ]
    },
    {
      "cell_type": "code",
      "execution_count": 76,
      "id": "54134ab4",
      "metadata": {
        "id": "54134ab4"
      },
      "outputs": [],
      "source": [
        "def hack_cipher(message_enc):\n",
        "    \"\"\"\n",
        "    Attempts to brute force a transposition cipher by trying all possible keys.\n",
        "    \"\"\"\n",
        "    hacked_messages = []\n",
        "    for key in range(1, len(message_enc) + 1):\n",
        "        cipher = TranspositionCipher(key)\n",
        "        try:\n",
        "            decrypted_message = cipher.decrypt_message(message_enc)\n",
        "            hacked_messages.append((key, decrypted_message))\n",
        "        except Exception:\n",
        "            continue\n",
        "\n",
        "    # Print all possible decrypted messages\n",
        "    for key, message in hacked_messages:\n",
        "        print(f\"Key: {key}, Decrypted Message: {message}\")\n",
        "\n",
        "    return hacked_messages"
      ]
    }
  ],
  "metadata": {
    "kernelspec": {
      "display_name": "Python 3 (ipykernel)",
      "language": "python",
      "name": "python3"
    },
    "language_info": {
      "codemirror_mode": {
        "name": "ipython",
        "version": 3
      },
      "file_extension": ".py",
      "mimetype": "text/x-python",
      "name": "python",
      "nbconvert_exporter": "python",
      "pygments_lexer": "ipython3",
      "version": "3.8.8"
    },
    "colab": {
      "provenance": []
    }
  },
  "nbformat": 4,
  "nbformat_minor": 5
}